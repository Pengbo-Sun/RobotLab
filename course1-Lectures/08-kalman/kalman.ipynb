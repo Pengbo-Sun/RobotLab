{
 "cells": [
  {
   "cell_type": "code",
   "execution_count": null,
   "metadata": {},
   "outputs": [],
   "source": [
    "import sys\n",
    "\n",
    "import numpy as np\n",
    "import math\n",
    "from carSimulator import CarSimulator"
   ]
  },
  {
   "cell_type": "code",
   "execution_count": null,
   "metadata": {},
   "outputs": [],
   "source": [
    "def getControlJacobian(sim, u, x):\n",
    "    L = sim.L\n",
    "    B = np.zeros((3,2))\n",
    "    #...\n",
    "    \n",
    "    return B"
   ]
  },
  {
   "cell_type": "code",
   "execution_count": null,
   "metadata": {},
   "outputs": [],
   "source": [
    "def main():\n",
    "\n",
    "    sim = CarSimulator()\n",
    "    u = [.1, .2]  # fixed control signal\n",
    "    \n",
    "    # Kalman estimates\n",
    "    s = np.zeros(3)\n",
    "    S = np.zeros((3,3))\n",
    "    \n",
    "    # initial at true state\n",
    "    s[0] = sim.x\n",
    "    s[1] = sim.y\n",
    "    s[2] = sim.theta\n",
    "    # with noisy constant\n",
    "    np.fill_diagonal(S, 0.1)\n",
    "    \n",
    "    W = np.identity(4) * sim.observationNoise\n",
    "    Q = np.identity(3) * sim.dynamicsNoise\n",
    "    \n",
    "    A = np.identity(3)\n",
    "    for t in range(10000):\n",
    "        sim.step(u)\n",
    "        y_meassured = sim.getRealNoisyObservation()\n",
    "        \n",
    "        # get the linear observation model\n",
    "        C = sim.getObservationJacobianAtState(s)\n",
    "        y_mean = sim.getMeanObservationAtState(s)\n",
    "        \n",
    "        # get the linear control model\n",
    "        B = getControlJacobian(sim, u, s)\n",
    "        a = np.dot(B, u)\n",
    "        \n",
    "        # Kalman filter\n",
    "        # ...\n",
    "        # Tipp: use variables shat, Shat, c, C and K\n",
    "        # to compute the new Kalman estimates s and S\n",
    "        \n",
    "\n",
    "        # code to display a covariance\n",
    "        sim.gaussianMeansToDraw = [s[:2]]\n",
    "        sim.gaussianCovsToDraw =[S[:2, :2]]\n",
    "\n",
    "        \n",
    "        # tracking error\n",
    "        error = np.abs(s - np.array([sim.x, sim.y, sim.theta]))\n",
    "        print(\"estim error\", np.max(error))\n",
    "        \n",
    "        \n",
    "main()"
   ]
  },
  {
   "cell_type": "code",
   "execution_count": null,
   "metadata": {},
   "outputs": [],
   "source": []
  }
 ],
 "metadata": {
  "kernelspec": {
   "display_name": "Python 3",
   "language": "python",
   "name": "python3"
  },
  "language_info": {
   "codemirror_mode": {
    "name": "ipython",
    "version": 3
   },
   "file_extension": ".py",
   "mimetype": "text/x-python",
   "name": "python",
   "nbconvert_exporter": "python",
   "pygments_lexer": "ipython3",
   "version": "3.5.2"
  }
 },
 "nbformat": 4,
 "nbformat_minor": 2
}
