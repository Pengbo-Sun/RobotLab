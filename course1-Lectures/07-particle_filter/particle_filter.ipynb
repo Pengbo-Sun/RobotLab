{
 "cells": [
  {
   "cell_type": "code",
   "execution_count": null,
   "metadata": {},
   "outputs": [],
   "source": [
    "import sys\n",
    "\n",
    "import numpy as np\n",
    "import math\n",
    "from carSimulator import CarSimulator"
   ]
  },
  {
   "cell_type": "code",
   "execution_count": null,
   "metadata": {},
   "outputs": [],
   "source": [
    "def sampleMultinomial_SUS(p, n):\n",
    "    s = [0] * n\n",
    "    sum = 0.\n",
    "    ptr = np.random.uniform()\n",
    "    j = 0\n",
    "    for i in range(len(p)):\n",
    "        sum += p[i] * n\n",
    "        while(sum > ptr):\n",
    "            s[j]=i\n",
    "            j += 1\n",
    "            ptr += 1.\n",
    "    if j != n:\n",
    "        print (\"p not normalized?\")\n",
    "    return s\n",
    "\n",
    "def resample(X, W):\n",
    "    indices = sampleMultinomial_SUS(W, len(X))\n",
    "    Xnew = X[indices]\n",
    "    W = np.ones(W.shape) / len(X)\n",
    "    return Xnew, W"
   ]
  },
  {
   "cell_type": "code",
   "execution_count": null,
   "metadata": {},
   "outputs": [],
   "source": [
    "def main():\n",
    "\n",
    "    sim = CarSimulator()\n",
    "    u = [.1, .2]  # fixed control signal\n",
    "    \n",
    "    # 1) initialize particles\n",
    "    N = 200\n",
    "    X = np.random.normal(0., .5, (N,3))\n",
    "    W = np.ones(N)/float(N)\n",
    "    \n",
    "    # you have access to:\n",
    "    #   sim.observationNoise (use when evaluating a particle likelihood)\n",
    "    #   sim.dynamicsNoise (use when propagating a particle)\n",
    "    \n",
    "    for t in range(1000):\n",
    "        sim.step(u)\n",
    "        y = sim.getRealNoisyObservation()\n",
    "        \n",
    "        # 2) resample weighted particles\n",
    "        X, W = resample(X,W)\n",
    "        \n",
    "        # 3) \"propagate\" each particle using system dynamics (see internals of step function of carSimulator.py)\n",
    "        #    you can add noise to the particles using \n",
    "        #    X += np.random.normal(0., sim.dynamicsNoise, X.shape)\n",
    "         \n",
    "            \n",
    "        # 4) compute the likelihood weights for each particle\n",
    "        #    to get the ideal observation for a state X[i] use this:\n",
    "        #    y_expected = sim.getMeanObservationAtState(X[i])\n",
    "    \n",
    "    \n",
    "        # draw particles\n",
    "        sim.particlesToDraw = X\n",
    "        \n",
    "main()"
   ]
  }
 ],
 "metadata": {
  "kernelspec": {
   "display_name": "Python 3",
   "language": "python",
   "name": "python3"
  },
  "language_info": {
   "codemirror_mode": {
    "name": "ipython",
    "version": 3
   },
   "file_extension": ".py",
   "mimetype": "text/x-python",
   "name": "python",
   "nbconvert_exporter": "python",
   "pygments_lexer": "ipython3",
   "version": "3.5.2"
  }
 },
 "nbformat": 4,
 "nbformat_minor": 2
}
